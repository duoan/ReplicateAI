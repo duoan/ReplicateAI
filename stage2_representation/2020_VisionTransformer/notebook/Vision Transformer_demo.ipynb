{
 "cells": [
  {
   "cell_type": "markdown",
   "metadata": {},
   "source": [
    "<a target=\"_blank\" href=\"https://colab.research.google.com/github/duoan/ReplicateAI/blob/master/stage2_representation/2020_VisionTransformer/notebook/Vision%20Transformer_demo.ipynb\">\n",
    "  <img src=\"https://colab.research.google.com/assets/colab-badge.svg\" alt=\"Open In Colab\"/>\n",
    "</a>\n",
    "\n",
    "# 🧠 ReplicateAI Demo Notebook — Vision Transformer (2021)\n",
    "## An Image is Worth 16x16 Words: Transformers for Image Recognition at Scale (2020)\n",
    "\n",
    "> https://arxiv.org/abs/2010.11929\n",
    "\n",
    "![ViT](../figures/vit.png)"
   ]
  },
  {
   "cell_type": "code",
   "metadata": {
    "ExecuteTime": {
     "end_time": "2025-10-29T02:13:33.425569Z",
     "start_time": "2025-10-29T02:13:33.420604Z"
    }
   },
   "source": [
    "print('Notebook environment ready.')"
   ],
   "outputs": [
    {
     "name": "stdout",
     "output_type": "stream",
     "text": [
      "Notebook environment ready.\n"
     ]
    }
   ],
   "execution_count": 1
  },
  {
   "metadata": {
    "ExecuteTime": {
     "end_time": "2025-10-29T02:13:33.529389Z",
     "start_time": "2025-10-29T02:13:33.461679Z"
    }
   },
   "cell_type": "code",
   "source": "%load_ext autoreload",
   "outputs": [],
   "execution_count": 2
  },
  {
   "metadata": {
    "ExecuteTime": {
     "end_time": "2025-10-29T02:13:33.537614Z",
     "start_time": "2025-10-29T02:13:33.535448Z"
    }
   },
   "cell_type": "code",
   "source": [
    "import os\n",
    "import sys\n",
    "\n",
    "sys.path.insert(0, os.path.abspath('../src'))"
   ],
   "outputs": [],
   "execution_count": 3
  },
  {
   "metadata": {},
   "cell_type": "markdown",
   "source": "# Training"
  },
  {
   "metadata": {},
   "cell_type": "markdown",
   "source": "## Import Depedencies"
  },
  {
   "metadata": {
    "ExecuteTime": {
     "end_time": "2025-10-29T02:13:38.730525Z",
     "start_time": "2025-10-29T02:13:33.546228Z"
    }
   },
   "cell_type": "code",
   "source": [
    "import os\n",
    "import numpy as np\n",
    "import torch\n",
    "from sklearn.metrics import accuracy_score, precision_score, recall_score\n",
    "from torch import stack, tensor\n",
    "from torchvision import datasets, transforms\n",
    "from transformers import TrainingArguments, Trainer\n",
    "\n",
    "from torchsummary import summary\n",
    "from torchview import draw_graph\n",
    "\n",
    "from model import ViTConfig, VisionTransformer"
   ],
   "outputs": [
    {
     "name": "stderr",
     "output_type": "stream",
     "text": [
      "/Users/duoan/PycharmProjects/ReplicateAI/.venv/lib/python3.12/site-packages/tqdm/auto.py:21: TqdmWarning: IProgress not found. Please update jupyter and ipywidgets. See https://ipywidgets.readthedocs.io/en/stable/user_install.html\n",
      "  from .autonotebook import tqdm as notebook_tqdm\n"
     ]
    }
   ],
   "execution_count": 4
  },
  {
   "metadata": {},
   "cell_type": "markdown",
   "source": "## Create Model"
  },
  {
   "metadata": {
    "ExecuteTime": {
     "end_time": "2025-10-29T02:13:39.025654Z",
     "start_time": "2025-10-29T02:13:38.764607Z"
    }
   },
   "cell_type": "code",
   "source": [
    "config = ViTConfig(\n",
    "    num_classes=10,\n",
    ")\n",
    "model = VisionTransformer(config)"
   ],
   "outputs": [],
   "execution_count": 5
  },
  {
   "metadata": {},
   "cell_type": "markdown",
   "source": [
    "## Load Dataset\n",
    "We are going to use [imagenette](https://github.com/fastai/imagenette#imagenette-1) is a subset of 10 easily classified classes from Imagenet (tench, English springer, cassette player, chain saw, church, French horn, garbage truck, gas pump, golf ball, parachute).\n",
    "\n",
    "> This give us easily to train our model with lower cost, and deep dive the model design."
   ]
  },
  {
   "metadata": {
    "ExecuteTime": {
     "end_time": "2025-10-29T02:13:39.054682Z",
     "start_time": "2025-10-29T02:13:39.032506Z"
    }
   },
   "cell_type": "code",
   "source": [
    "# Define the root directory where the dataset will be downloaded\n",
    "DATA_ROOT = \"./data/imagenette\"\n",
    "os.makedirs(DATA_ROOT, exist_ok=True)\n",
    "\n",
    "# Standard ViT/ImageNet preprocessing pipeline (224x224 output)\n",
    "transform = transforms.Compose([\n",
    "    transforms.Resize(256),\n",
    "    transforms.CenterCrop(224),\n",
    "    transforms.ToTensor(),\n",
    "    # Normalization is crucial for ViT, even for testing\n",
    "    transforms.Normalize(mean=[0.485, 0.456, 0.406], std=[0.229, 0.224, 0.225]),\n",
    "])\n",
    "\n",
    "# Load the ImageNette dataset\n",
    "full_train_ds = datasets.Imagenette(\n",
    "    root=DATA_ROOT, split='train', size='full', download=True, transform=transform\n",
    ")\n",
    "full_test_ds = datasets.Imagenette(\n",
    "    root=DATA_ROOT, split='val', size='full', download=True, transform=transform\n",
    ")"
   ],
   "outputs": [],
   "execution_count": 6
  },
  {
   "metadata": {
    "ExecuteTime": {
     "end_time": "2025-10-29T02:13:39.066737Z",
     "start_time": "2025-10-29T02:13:39.064251Z"
    }
   },
   "cell_type": "code",
   "source": [
    "batch_size = 32\n",
    "input_size = (batch_size, 3, 224, 224)"
   ],
   "outputs": [],
   "execution_count": 7
  },
  {
   "metadata": {},
   "cell_type": "markdown",
   "source": "## Visualizing the Model Structure and Parameters"
  },
  {
   "metadata": {
    "ExecuteTime": {
     "end_time": "2025-10-29T02:14:33.904127Z",
     "start_time": "2025-10-29T02:14:31.366865Z"
    }
   },
   "cell_type": "code",
   "source": [
    "draw_graph(\n",
    "    model,\n",
    "    input_size=input_size,\n",
    "    device='cpu',\n",
    "    expand_nested=True,\n",
    "    save_graph=True,\n",
    "    graph_dir=\"BT\",\n",
    "    filename=str(os.path.abspath('../figures/model')),\n",
    ")"
   ],
   "outputs": [
    {
     "data": {
      "text/plain": [
       "<torchview.computation_graph.ComputationGraph at 0x10c194350>"
      ]
     },
     "execution_count": 10,
     "metadata": {},
     "output_type": "execute_result"
    }
   ],
   "execution_count": 10
  },
  {
   "metadata": {},
   "cell_type": "markdown",
   "source": "![model](../figures/model.png)"
  },
  {
   "metadata": {
    "ExecuteTime": {
     "end_time": "2025-10-29T02:13:44.228303Z",
     "start_time": "2025-10-29T02:13:44.054781Z"
    }
   },
   "cell_type": "code",
   "source": "summary(model, input_size=(3, 224, 224), batch_size=batch_size, device='cpu')",
   "outputs": [
    {
     "name": "stdout",
     "output_type": "stream",
     "text": [
      "----------------------------------------------------------------\n",
      "        Layer (type)               Output Shape         Param #\n",
      "================================================================\n",
      "            Conv2d-1          [32, 768, 14, 14]         590,592\n",
      "           Flatten-2             [32, 768, 196]               0\n",
      " ViTPatchEmbedding-3             [32, 196, 768]               0\n",
      "           Dropout-4             [32, 197, 768]               0\n",
      "      ViTEmbedding-5             [32, 197, 768]               0\n",
      "            Linear-6             [32, 197, 768]         589,824\n",
      "            Linear-7             [32, 197, 768]         589,824\n",
      "            Linear-8             [32, 197, 768]         589,824\n",
      "           Dropout-9         [32, 12, 197, 197]               0\n",
      "           Linear-10             [32, 197, 768]         590,592\n",
      "          Dropout-11             [32, 197, 768]               0\n",
      "     ViTAttention-12             [32, 197, 768]               0\n",
      "        LayerNorm-13             [32, 197, 768]           1,536\n",
      "           Linear-14            [32, 197, 3072]       2,362,368\n",
      "             GELU-15            [32, 197, 3072]               0\n",
      "          Dropout-16            [32, 197, 3072]               0\n",
      "           Linear-17             [32, 197, 768]       2,360,064\n",
      "          Dropout-18             [32, 197, 768]               0\n",
      "   ViTFeedForward-19             [32, 197, 768]               0\n",
      "           Linear-20             [32, 197, 768]         589,824\n",
      "           Linear-21             [32, 197, 768]         589,824\n",
      "           Linear-22             [32, 197, 768]         589,824\n",
      "          Dropout-23         [32, 12, 197, 197]               0\n",
      "           Linear-24             [32, 197, 768]         590,592\n",
      "          Dropout-25             [32, 197, 768]               0\n",
      "     ViTAttention-26             [32, 197, 768]               0\n",
      "        LayerNorm-27             [32, 197, 768]           1,536\n",
      "           Linear-28            [32, 197, 3072]       2,362,368\n",
      "             GELU-29            [32, 197, 3072]               0\n",
      "          Dropout-30            [32, 197, 3072]               0\n",
      "           Linear-31             [32, 197, 768]       2,360,064\n",
      "          Dropout-32             [32, 197, 768]               0\n",
      "   ViTFeedForward-33             [32, 197, 768]               0\n",
      "           Linear-34             [32, 197, 768]         589,824\n",
      "           Linear-35             [32, 197, 768]         589,824\n",
      "           Linear-36             [32, 197, 768]         589,824\n",
      "          Dropout-37         [32, 12, 197, 197]               0\n",
      "           Linear-38             [32, 197, 768]         590,592\n",
      "          Dropout-39             [32, 197, 768]               0\n",
      "     ViTAttention-40             [32, 197, 768]               0\n",
      "        LayerNorm-41             [32, 197, 768]           1,536\n",
      "           Linear-42            [32, 197, 3072]       2,362,368\n",
      "             GELU-43            [32, 197, 3072]               0\n",
      "          Dropout-44            [32, 197, 3072]               0\n",
      "           Linear-45             [32, 197, 768]       2,360,064\n",
      "          Dropout-46             [32, 197, 768]               0\n",
      "   ViTFeedForward-47             [32, 197, 768]               0\n",
      "           Linear-48             [32, 197, 768]         589,824\n",
      "           Linear-49             [32, 197, 768]         589,824\n",
      "           Linear-50             [32, 197, 768]         589,824\n",
      "          Dropout-51         [32, 12, 197, 197]               0\n",
      "           Linear-52             [32, 197, 768]         590,592\n",
      "          Dropout-53             [32, 197, 768]               0\n",
      "     ViTAttention-54             [32, 197, 768]               0\n",
      "        LayerNorm-55             [32, 197, 768]           1,536\n",
      "           Linear-56            [32, 197, 3072]       2,362,368\n",
      "             GELU-57            [32, 197, 3072]               0\n",
      "          Dropout-58            [32, 197, 3072]               0\n",
      "           Linear-59             [32, 197, 768]       2,360,064\n",
      "          Dropout-60             [32, 197, 768]               0\n",
      "   ViTFeedForward-61             [32, 197, 768]               0\n",
      "           Linear-62             [32, 197, 768]         589,824\n",
      "           Linear-63             [32, 197, 768]         589,824\n",
      "           Linear-64             [32, 197, 768]         589,824\n",
      "          Dropout-65         [32, 12, 197, 197]               0\n",
      "           Linear-66             [32, 197, 768]         590,592\n",
      "          Dropout-67             [32, 197, 768]               0\n",
      "     ViTAttention-68             [32, 197, 768]               0\n",
      "        LayerNorm-69             [32, 197, 768]           1,536\n",
      "           Linear-70            [32, 197, 3072]       2,362,368\n",
      "             GELU-71            [32, 197, 3072]               0\n",
      "          Dropout-72            [32, 197, 3072]               0\n",
      "           Linear-73             [32, 197, 768]       2,360,064\n",
      "          Dropout-74             [32, 197, 768]               0\n",
      "   ViTFeedForward-75             [32, 197, 768]               0\n",
      "           Linear-76             [32, 197, 768]         589,824\n",
      "           Linear-77             [32, 197, 768]         589,824\n",
      "           Linear-78             [32, 197, 768]         589,824\n",
      "          Dropout-79         [32, 12, 197, 197]               0\n",
      "           Linear-80             [32, 197, 768]         590,592\n",
      "          Dropout-81             [32, 197, 768]               0\n",
      "     ViTAttention-82             [32, 197, 768]               0\n",
      "        LayerNorm-83             [32, 197, 768]           1,536\n",
      "           Linear-84            [32, 197, 3072]       2,362,368\n",
      "             GELU-85            [32, 197, 3072]               0\n",
      "          Dropout-86            [32, 197, 3072]               0\n",
      "           Linear-87             [32, 197, 768]       2,360,064\n",
      "          Dropout-88             [32, 197, 768]               0\n",
      "   ViTFeedForward-89             [32, 197, 768]               0\n",
      "           Linear-90             [32, 197, 768]         589,824\n",
      "           Linear-91             [32, 197, 768]         589,824\n",
      "           Linear-92             [32, 197, 768]         589,824\n",
      "          Dropout-93         [32, 12, 197, 197]               0\n",
      "           Linear-94             [32, 197, 768]         590,592\n",
      "          Dropout-95             [32, 197, 768]               0\n",
      "     ViTAttention-96             [32, 197, 768]               0\n",
      "        LayerNorm-97             [32, 197, 768]           1,536\n",
      "           Linear-98            [32, 197, 3072]       2,362,368\n",
      "             GELU-99            [32, 197, 3072]               0\n",
      "         Dropout-100            [32, 197, 3072]               0\n",
      "          Linear-101             [32, 197, 768]       2,360,064\n",
      "         Dropout-102             [32, 197, 768]               0\n",
      "  ViTFeedForward-103             [32, 197, 768]               0\n",
      "          Linear-104             [32, 197, 768]         589,824\n",
      "          Linear-105             [32, 197, 768]         589,824\n",
      "          Linear-106             [32, 197, 768]         589,824\n",
      "         Dropout-107         [32, 12, 197, 197]               0\n",
      "          Linear-108             [32, 197, 768]         590,592\n",
      "         Dropout-109             [32, 197, 768]               0\n",
      "    ViTAttention-110             [32, 197, 768]               0\n",
      "       LayerNorm-111             [32, 197, 768]           1,536\n",
      "          Linear-112            [32, 197, 3072]       2,362,368\n",
      "            GELU-113            [32, 197, 3072]               0\n",
      "         Dropout-114            [32, 197, 3072]               0\n",
      "          Linear-115             [32, 197, 768]       2,360,064\n",
      "         Dropout-116             [32, 197, 768]               0\n",
      "  ViTFeedForward-117             [32, 197, 768]               0\n",
      "          Linear-118             [32, 197, 768]         589,824\n",
      "          Linear-119             [32, 197, 768]         589,824\n",
      "          Linear-120             [32, 197, 768]         589,824\n",
      "         Dropout-121         [32, 12, 197, 197]               0\n",
      "          Linear-122             [32, 197, 768]         590,592\n",
      "         Dropout-123             [32, 197, 768]               0\n",
      "    ViTAttention-124             [32, 197, 768]               0\n",
      "       LayerNorm-125             [32, 197, 768]           1,536\n",
      "          Linear-126            [32, 197, 3072]       2,362,368\n",
      "            GELU-127            [32, 197, 3072]               0\n",
      "         Dropout-128            [32, 197, 3072]               0\n",
      "          Linear-129             [32, 197, 768]       2,360,064\n",
      "         Dropout-130             [32, 197, 768]               0\n",
      "  ViTFeedForward-131             [32, 197, 768]               0\n",
      "          Linear-132             [32, 197, 768]         589,824\n",
      "          Linear-133             [32, 197, 768]         589,824\n",
      "          Linear-134             [32, 197, 768]         589,824\n",
      "         Dropout-135         [32, 12, 197, 197]               0\n",
      "          Linear-136             [32, 197, 768]         590,592\n",
      "         Dropout-137             [32, 197, 768]               0\n",
      "    ViTAttention-138             [32, 197, 768]               0\n",
      "       LayerNorm-139             [32, 197, 768]           1,536\n",
      "          Linear-140            [32, 197, 3072]       2,362,368\n",
      "            GELU-141            [32, 197, 3072]               0\n",
      "         Dropout-142            [32, 197, 3072]               0\n",
      "          Linear-143             [32, 197, 768]       2,360,064\n",
      "         Dropout-144             [32, 197, 768]               0\n",
      "  ViTFeedForward-145             [32, 197, 768]               0\n",
      "          Linear-146             [32, 197, 768]         589,824\n",
      "          Linear-147             [32, 197, 768]         589,824\n",
      "          Linear-148             [32, 197, 768]         589,824\n",
      "         Dropout-149         [32, 12, 197, 197]               0\n",
      "          Linear-150             [32, 197, 768]         590,592\n",
      "         Dropout-151             [32, 197, 768]               0\n",
      "    ViTAttention-152             [32, 197, 768]               0\n",
      "       LayerNorm-153             [32, 197, 768]           1,536\n",
      "          Linear-154            [32, 197, 3072]       2,362,368\n",
      "            GELU-155            [32, 197, 3072]               0\n",
      "         Dropout-156            [32, 197, 3072]               0\n",
      "          Linear-157             [32, 197, 768]       2,360,064\n",
      "         Dropout-158             [32, 197, 768]               0\n",
      "  ViTFeedForward-159             [32, 197, 768]               0\n",
      "          Linear-160             [32, 197, 768]         589,824\n",
      "          Linear-161             [32, 197, 768]         589,824\n",
      "          Linear-162             [32, 197, 768]         589,824\n",
      "         Dropout-163         [32, 12, 197, 197]               0\n",
      "          Linear-164             [32, 197, 768]         590,592\n",
      "         Dropout-165             [32, 197, 768]               0\n",
      "    ViTAttention-166             [32, 197, 768]               0\n",
      "       LayerNorm-167             [32, 197, 768]           1,536\n",
      "          Linear-168            [32, 197, 3072]       2,362,368\n",
      "            GELU-169            [32, 197, 3072]               0\n",
      "         Dropout-170            [32, 197, 3072]               0\n",
      "          Linear-171             [32, 197, 768]       2,360,064\n",
      "         Dropout-172             [32, 197, 768]               0\n",
      "  ViTFeedForward-173             [32, 197, 768]               0\n",
      "      ViTEncoder-174             [32, 197, 768]               0\n",
      "          Linear-175                   [32, 10]           7,690\n",
      "================================================================\n",
      "Total params: 85,606,666\n",
      "Trainable params: 85,606,666\n",
      "Non-trainable params: 0\n",
      "----------------------------------------------------------------\n",
      "Input size (MB): 18.38\n",
      "Forward/backward pass size (MB): 11336.94\n",
      "Params size (MB): 326.56\n",
      "Estimated Total Size (MB): 11681.88\n",
      "----------------------------------------------------------------\n"
     ]
    }
   ],
   "execution_count": 9
  },
  {
   "metadata": {},
   "cell_type": "markdown",
   "source": "## Define the metrics and data collector"
  },
  {
   "metadata": {
    "ExecuteTime": {
     "end_time": "2025-10-29T02:18:33.750368Z",
     "start_time": "2025-10-29T02:18:33.731597Z"
    }
   },
   "cell_type": "code",
   "source": [
    "def compute_metrics(eval_pred):\n",
    "    logits, labels = eval_pred\n",
    "    # Labels from torchvision dataset subset are typically tensors/arrays, not tuples\n",
    "    # Ensure labels are extracted correctly (Trainer handles this mostly, but good practice)\n",
    "    if isinstance(labels, torch.Tensor):\n",
    "        labels = labels.cpu().numpy()\n",
    "\n",
    "    preds = np.argmax(logits, axis=1)\n",
    "    return {\n",
    "        \"accuracy\": accuracy_score(labels, preds),\n",
    "        \"precision\": precision_score(labels, preds, average='weighted', zero_division=0),\n",
    "        \"recall\": recall_score(labels, preds, average='weighted', zero_division=0),\n",
    "    }\n",
    "\n",
    "def custom_data_collator(samples):\n",
    "    \"\"\"\n",
    "    Collate function to handle (image, label) tuples from torchvision datasets\n",
    "    and format them into a dictionary for the Hugging Face Trainer.\n",
    "    \"\"\"\n",
    "    # 1. Unpack the list of (image, label) tuples\n",
    "    images = [sample[0] for sample in samples]\n",
    "    labels = [sample[1] for sample in samples]\n",
    "\n",
    "    # 2. Stack the tensors and convert the labels to a tensor\n",
    "    # torch.stack creates a batch tensor from a list of tensors (for images)\n",
    "    # torch.tensor converts a list of numbers to a tensor (for labels)\n",
    "\n",
    "    return {\n",
    "        # The Trainer expects the input image tensor under the key 'pixel_values'\n",
    "        \"pixel_values\": stack(images),\n",
    "        # The Trainer expects the labels under the key 'labels'\n",
    "        \"labels\": tensor(labels),\n",
    "    }"
   ],
   "outputs": [],
   "execution_count": 11
  },
  {
   "metadata": {},
   "cell_type": "markdown",
   "source": [
    "## Define the trainer\n",
    "Here we directly use huggingface transformers Trainer to quickly train our model, which enables us can run the training code in different settings including local, single GPU, multi GPU, multi nodes.\n"
   ]
  },
  {
   "metadata": {
    "ExecuteTime": {
     "end_time": "2025-10-29T02:19:33.525446Z",
     "start_time": "2025-10-29T02:19:33.314358Z"
    }
   },
   "cell_type": "code",
   "source": [
    "device = torch.accelerator.current_accelerator()\n",
    "\n",
    "args = TrainingArguments(\n",
    "    \"vit-imagenette-macbook-test\",  # Unique name for test runs\n",
    "    per_device_train_batch_size=batch_size,\n",
    "    per_device_eval_batch_size=batch_size,\n",
    "    eval_strategy=\"epoch\",\n",
    "    save_strategy=\"no\",  # No need to save checkpoints for a quick test\n",
    "    num_train_epochs=2,  # Run for only 2 epochs\n",
    "    learning_rate=3e-4,\n",
    "    weight_decay=0.05,\n",
    "    logging_steps=10,\n",
    "    load_best_model_at_end=False,  # No need to load best model\n",
    "    report_to=\"none\",\n",
    "    # Pass the device to TrainingArguments (important for non-CUDA systems)\n",
    "    optim=\"adamw_torch\",  # Explicitly use a common optimizer\n",
    "    disable_tqdm=False,  # Keep progress bar for visibility\n",
    "    dataloader_pin_memory=True if torch.cuda.is_available() else False,\n",
    ")\n",
    "\n",
    "trainer = Trainer(\n",
    "    model=model,\n",
    "    args=args,\n",
    "    train_dataset=full_train_ds,\n",
    "    eval_dataset=full_test_ds,\n",
    "    compute_metrics=compute_metrics,\n",
    "    data_collator=custom_data_collator,\n",
    ")\n",
    "\n",
    "# Manually move model to the determined device (Trainer will handle it, but this is a good check)\n",
    "model.to(device)"
   ],
   "outputs": [
    {
     "data": {
      "text/plain": [
       "VisionTransformer(\n",
       "  (embedding): ViTEmbedding(\n",
       "    (patch_embeddings): ViTPatchEmbedding(\n",
       "      (projector): Conv2d(3, 768, kernel_size=(16, 16), stride=(16, 16))\n",
       "      (flatten): Flatten(start_dim=2, end_dim=-1)\n",
       "    )\n",
       "    (dropout): Dropout(p=0.0, inplace=False)\n",
       "  )\n",
       "  (encoder): ViTEncoder(\n",
       "    (layers): ModuleList(\n",
       "      (0-11): 12 x Sequential(\n",
       "        (0): ViTAttention(\n",
       "          (attn_drop): Dropout(p=0.0, inplace=False)\n",
       "          (norm): LayerNorm((768,), eps=1e-12, elementwise_affine=True)\n",
       "          (query): Linear(in_features=768, out_features=768, bias=False)\n",
       "          (key): Linear(in_features=768, out_features=768, bias=False)\n",
       "          (value): Linear(in_features=768, out_features=768, bias=False)\n",
       "          (out_proj): Linear(in_features=768, out_features=768, bias=True)\n",
       "          (out_drop): Dropout(p=0.0, inplace=False)\n",
       "        )\n",
       "        (1): ViTFeedForward(\n",
       "          (norm): LayerNorm((768,), eps=1e-05, elementwise_affine=True)\n",
       "          (net): Sequential(\n",
       "            (0): Linear(in_features=768, out_features=3072, bias=True)\n",
       "            (1): GELU(approximate='none')\n",
       "            (2): Dropout(p=0.0, inplace=False)\n",
       "            (3): Linear(in_features=3072, out_features=768, bias=True)\n",
       "            (4): Dropout(p=0.0, inplace=False)\n",
       "          )\n",
       "        )\n",
       "      )\n",
       "    )\n",
       "  )\n",
       "  (mlp_head): Linear(in_features=768, out_features=10, bias=True)\n",
       ")"
      ]
     },
     "execution_count": 12,
     "metadata": {},
     "output_type": "execute_result"
    }
   ],
   "execution_count": 12
  },
  {
   "metadata": {},
   "cell_type": "markdown",
   "source": "## Train the model"
  },
  {
   "metadata": {
    "ExecuteTime": {
     "end_time": "2025-10-29T03:40:23.056484Z",
     "start_time": "2025-10-29T02:19:46.468128Z"
    }
   },
   "cell_type": "code",
   "source": "trainer.train()",
   "outputs": [
    {
     "data": {
      "text/plain": [
       "<IPython.core.display.HTML object>"
      ],
      "text/html": [
       "\n",
       "    <div>\n",
       "      \n",
       "      <progress value='592' max='592' style='width:300px; height:20px; vertical-align: middle;'></progress>\n",
       "      [592/592 1:20:32, Epoch 2/2]\n",
       "    </div>\n",
       "    <table border=\"1\" class=\"dataframe\">\n",
       "  <thead>\n",
       " <tr style=\"text-align: left;\">\n",
       "      <th>Epoch</th>\n",
       "      <th>Training Loss</th>\n",
       "      <th>Validation Loss</th>\n",
       "      <th>Accuracy</th>\n",
       "      <th>Precision</th>\n",
       "      <th>Recall</th>\n",
       "    </tr>\n",
       "  </thead>\n",
       "  <tbody>\n",
       "    <tr>\n",
       "      <td>1</td>\n",
       "      <td>574.549600</td>\n",
       "      <td>291.497375</td>\n",
       "      <td>0.107516</td>\n",
       "      <td>0.107326</td>\n",
       "      <td>0.107516</td>\n",
       "    </tr>\n",
       "    <tr>\n",
       "      <td>2</td>\n",
       "      <td>172.600100</td>\n",
       "      <td>173.954941</td>\n",
       "      <td>0.098089</td>\n",
       "      <td>0.098391</td>\n",
       "      <td>0.098089</td>\n",
       "    </tr>\n",
       "  </tbody>\n",
       "</table><p>"
      ]
     },
     "metadata": {},
     "output_type": "display_data",
     "jetTransient": {
      "display_id": "1d1f87ec45730024b73b1298168ea4de"
     }
    },
    {
     "data": {
      "text/plain": [
       "TrainOutput(global_step=592, training_loss=240.71912934006872, metrics={'train_runtime': 4836.2851, 'train_samples_per_second': 3.916, 'train_steps_per_second': 0.122, 'total_flos': 0.0, 'train_loss': 240.71912934006872, 'epoch': 2.0})"
      ]
     },
     "execution_count": 13,
     "metadata": {},
     "output_type": "execute_result"
    }
   ],
   "execution_count": 13
  },
  {
   "metadata": {},
   "cell_type": "code",
   "outputs": [],
   "execution_count": null,
   "source": ""
  }
 ],
 "metadata": {
  "kernelspec": {
   "display_name": "Python 3",
   "language": "python",
   "name": "python3"
  }
 },
 "nbformat": 4,
 "nbformat_minor": 2
}
