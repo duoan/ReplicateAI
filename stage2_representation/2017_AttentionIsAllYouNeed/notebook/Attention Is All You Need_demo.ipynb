{
 "cells": [
  {
   "cell_type": "markdown",
   "metadata": {},
   "source": [
    "# 🧠 ReplicateAI Demo Notebook — Attention Is All You Need (2017)\n",
    "Use this notebook to test model implementation, visualize metrics, and document key observations."
   ]
  },
  {
   "metadata": {},
   "cell_type": "markdown",
   "source": "## test multi30k dataset"
  },
  {
   "cell_type": "code",
   "metadata": {
    "ExecuteTime": {
     "end_time": "2025-10-23T17:40:40.351810Z",
     "start_time": "2025-10-23T17:40:36.017037Z"
    }
   },
   "source": [
    "from datasets import load_dataset\n",
    "\n",
    "ds = load_dataset(\"bentrevett/multi30k\")"
   ],
   "outputs": [
    {
     "name": "stderr",
     "output_type": "stream",
     "text": [
      "/Volumes/Workplace/ReproduceAI/.venv/lib/python3.12/site-packages/tqdm/auto.py:21: TqdmWarning: IProgress not found. Please update jupyter and ipywidgets. See https://ipywidgets.readthedocs.io/en/stable/user_install.html\n",
      "  from .autonotebook import tqdm as notebook_tqdm\n"
     ]
    }
   ],
   "execution_count": 1
  },
  {
   "metadata": {
    "ExecuteTime": {
     "end_time": "2025-10-23T17:40:40.367778Z",
     "start_time": "2025-10-23T17:40:40.363568Z"
    }
   },
   "cell_type": "code",
   "source": "ds",
   "outputs": [
    {
     "data": {
      "text/plain": [
       "DatasetDict({\n",
       "    train: Dataset({\n",
       "        features: ['en', 'de'],\n",
       "        num_rows: 29000\n",
       "    })\n",
       "    validation: Dataset({\n",
       "        features: ['en', 'de'],\n",
       "        num_rows: 1014\n",
       "    })\n",
       "    test: Dataset({\n",
       "        features: ['en', 'de'],\n",
       "        num_rows: 1000\n",
       "    })\n",
       "})"
      ]
     },
     "execution_count": 2,
     "metadata": {},
     "output_type": "execute_result"
    }
   ],
   "execution_count": 2
  },
  {
   "metadata": {
    "ExecuteTime": {
     "end_time": "2025-10-23T17:40:42.110338Z",
     "start_time": "2025-10-23T17:40:42.108084Z"
    }
   },
   "cell_type": "code",
   "source": "ds['train']",
   "outputs": [
    {
     "data": {
      "text/plain": [
       "Dataset({\n",
       "    features: ['en', 'de'],\n",
       "    num_rows: 29000\n",
       "})"
      ]
     },
     "execution_count": 3,
     "metadata": {},
     "output_type": "execute_result"
    }
   ],
   "execution_count": 3
  },
  {
   "metadata": {
    "ExecuteTime": {
     "end_time": "2025-10-20T17:09:30.336351Z",
     "start_time": "2025-10-20T17:09:30.334084Z"
    }
   },
   "cell_type": "code",
   "source": "ds['validation']",
   "outputs": [
    {
     "data": {
      "text/plain": [
       "Dataset({\n",
       "    features: ['en', 'de'],\n",
       "    num_rows: 1014\n",
       "})"
      ]
     },
     "execution_count": 8,
     "metadata": {},
     "output_type": "execute_result"
    }
   ],
   "execution_count": 8
  },
  {
   "metadata": {
    "ExecuteTime": {
     "end_time": "2025-10-20T17:09:32.779659Z",
     "start_time": "2025-10-20T17:09:32.777661Z"
    }
   },
   "cell_type": "code",
   "source": "ds['test']",
   "outputs": [
    {
     "data": {
      "text/plain": [
       "Dataset({\n",
       "    features: ['en', 'de'],\n",
       "    num_rows: 1000\n",
       "})"
      ]
     },
     "execution_count": 9,
     "metadata": {},
     "output_type": "execute_result"
    }
   ],
   "execution_count": 9
  },
  {
   "metadata": {},
   "cell_type": "markdown",
   "source": "## Test Tiktoken"
  },
  {
   "metadata": {
    "ExecuteTime": {
     "end_time": "2025-10-20T17:13:16.683253Z",
     "start_time": "2025-10-20T17:13:15.336914Z"
    }
   },
   "cell_type": "code",
   "source": [
    "import tiktoken\n",
    "enc = tiktoken.get_encoding(\"gpt2\")\n",
    "\n",
    "# Encode sample pairs\n",
    "for example in ds['train'].select(range(10)):\n",
    "    en_tokens = enc.encode(example['en'])\n",
    "    de_tokens = enc.encode(example['de'])\n",
    "\n",
    "    print(f\"EN: {example['en']}\")\n",
    "    print(f\"DE: {example['de']}\")\n",
    "    print(f\"EN tokens: {en_tokens} | DE tokens: {de_tokens}\\n\")"
   ],
   "outputs": [
    {
     "name": "stdout",
     "output_type": "stream",
     "text": [
      "EN: Two young, White males are outside near many bushes.\n",
      "DE: Zwei junge weiße Männer sind im Freien in der Nähe vieler Büsche.\n",
      "EN tokens: [7571, 1862, 11, 2635, 10835, 389, 2354, 1474, 867, 37413, 13] | DE tokens: [57, 42990, 10891, 469, 356, 72, 39683, 68, 337, 11033, 77, 1008, 264, 521, 545, 4848, 2013, 287, 4587, 399, 11033, 258, 410, 8207, 263, 347, 9116, 15952, 13]\n",
      "\n",
      "EN: Several men in hard hats are operating a giant pulley system.\n",
      "DE: Mehrere Männer mit Schutzhelmen bedienen ein Antriebsradsystem.\n",
      "EN tokens: [14945, 1450, 287, 1327, 23910, 389, 5361, 257, 6175, 17472, 1636, 1080, 13] | DE tokens: [5308, 71, 260, 260, 337, 11033, 77, 1008, 10255, 3059, 27839, 2978, 3653, 3996, 2013, 268, 304, 259, 3738, 5034, 1443, 6335, 10057, 13]\n",
      "\n",
      "EN: A little girl climbing into a wooden playhouse.\n",
      "DE: Ein kleines Mädchen klettert in ein Spielhaus aus Holz.\n",
      "EN tokens: [32, 1310, 2576, 14281, 656, 257, 13510, 711, 4803, 13] | DE tokens: [36, 259, 479, 293, 1127, 337, 11033, 67, 6607, 479, 9291, 83, 287, 304, 259, 34841, 30404, 257, 385, 6479, 89, 13]\n",
      "\n",
      "EN: A man in a blue shirt is standing on a ladder cleaning a window.\n",
      "DE: Ein Mann in einem blauen Hemd steht auf einer Leiter und putzt ein Fenster.\n",
      "EN tokens: [32, 582, 287, 257, 4171, 10147, 318, 5055, 319, 257, 18002, 12724, 257, 4324, 13] | DE tokens: [36, 259, 20291, 287, 304, 7749, 698, 559, 268, 15617, 67, 2876, 4352, 257, 3046, 304, 7274, 1004, 2676, 3318, 1234, 89, 83, 304, 259, 19426, 1706, 13]\n",
      "\n",
      "EN: Two men are at the stove preparing food.\n",
      "DE: Zwei Männer stehen am Herd und bereiten Essen zu.\n",
      "EN tokens: [7571, 1450, 389, 379, 262, 27635, 10629, 2057, 13] | DE tokens: [57, 42990, 337, 11033, 77, 1008, 2876, 831, 716, 2332, 67, 3318, 45303, 270, 268, 11985, 268, 1976, 84, 13]\n",
      "\n",
      "EN: A man in green holds a guitar while the other man observes his shirt.\n",
      "DE: Ein Mann in grün hält eine Gitarre, während der andere Mann sein Hemd ansieht.\n",
      "EN tokens: [32, 582, 287, 4077, 6622, 257, 10047, 981, 262, 584, 582, 34526, 465, 10147, 13] | DE tokens: [36, 259, 20291, 287, 1036, 9116, 77, 289, 11033, 2528, 304, 500, 402, 7940, 260, 11, 266, 11033, 71, 10920, 4587, 290, 567, 20291, 384, 259, 15617, 67, 9093, 494, 4352, 13]\n",
      "\n",
      "EN: A man is smiling at a stuffed lion\n",
      "DE: Ein Mann lächelt einen ausgestopften Löwen an.\n",
      "EN tokens: [32, 582, 318, 16755, 379, 257, 22259, 18744] | DE tokens: [36, 259, 20291, 300, 11033, 2395, 2528, 304, 42326, 257, 385, 3495, 404, 14785, 406, 9101, 21006, 281, 13]\n",
      "\n",
      "EN: A trendy girl talking on her cellphone while gliding slowly down the street.\n",
      "DE: Ein schickes Mädchen spricht mit dem Handy während sie langsam die Straße entlangschwebt.\n",
      "EN tokens: [32, 44493, 2576, 3375, 319, 607, 26346, 981, 1278, 2530, 6364, 866, 262, 4675, 13] | DE tokens: [36, 259, 5513, 624, 274, 337, 11033, 67, 6607, 7500, 30830, 10255, 1357, 7157, 88, 266, 11033, 71, 10920, 264, 494, 300, 27725, 321, 4656, 15195, 39683, 68, 920, 17204, 20601, 12384, 83, 13]\n",
      "\n",
      "EN: A woman with a large purse is walking by a gate.\n",
      "DE: Eine Frau mit einer großen Geldbörse geht an einem Tor vorbei.\n",
      "EN tokens: [32, 2415, 351, 257, 1588, 27517, 318, 6155, 416, 257, 8946, 13] | DE tokens: [36, 500, 39313, 84, 10255, 304, 7274, 7128, 39683, 268, 2269, 335, 65, 30570, 325, 4903, 4352, 281, 304, 7749, 4022, 410, 273, 1350, 72, 13]\n",
      "\n",
      "EN: Boys dancing on poles in the middle of the night.\n",
      "DE: Jungen tanzen mitten in der Nacht auf Pfosten.\n",
      "EN tokens: [33, 19417, 15360, 319, 24971, 287, 262, 3504, 286, 262, 1755, 13] | DE tokens: [41, 2150, 268, 25706, 4801, 285, 2621, 287, 4587, 399, 19725, 257, 3046, 38477, 455, 268, 13]\n",
      "\n"
     ]
    }
   ],
   "execution_count": 10
  },
  {
   "metadata": {},
   "cell_type": "markdown",
   "source": "## Test Tokenizers"
  },
  {
   "metadata": {
    "ExecuteTime": {
     "end_time": "2025-10-23T17:41:19.134490Z",
     "start_time": "2025-10-23T17:41:16.859662Z"
    }
   },
   "cell_type": "code",
   "source": [
    "from tokenizers import Tokenizer\n",
    "from tokenizers.models import BPE\n",
    "\n",
    "tokenizer = Tokenizer(BPE())\n",
    "\n",
    "from tokenizers.trainers import BpeTrainer\n",
    "trainer = BpeTrainer(special_tokens=[\"[UNK]\", \"[CLS]\", \"[SEP]\", \"[PAD]\", \"[MASK]\"])\n",
    "\n",
    "tokenizer.train_from_iterator(ds['train']['en'], trainer)"
   ],
   "outputs": [
    {
     "name": "stdout",
     "output_type": "stream",
     "text": [
      "\n",
      "\n",
      "\n"
     ]
    }
   ],
   "execution_count": 5
  },
  {
   "metadata": {
    "ExecuteTime": {
     "end_time": "2025-10-23T17:47:04.158144Z",
     "start_time": "2025-10-23T17:47:04.144379Z"
    }
   },
   "cell_type": "code",
   "source": "output = tokenizer.encode(ds['train']['en'][1])",
   "outputs": [],
   "execution_count": 13
  },
  {
   "metadata": {
    "ExecuteTime": {
     "end_time": "2025-10-23T17:47:15.622744Z",
     "start_time": "2025-10-23T17:47:15.619053Z"
    }
   },
   "cell_type": "code",
   "source": "output.tokens\n",
   "outputs": [
    {
     "data": {
      "text/plain": [
       "['Several men in ',\n",
       " 'hard hats are ',\n",
       " 'operating a ',\n",
       " 'giant ',\n",
       " 'pulley ',\n",
       " 'system.']"
      ]
     },
     "execution_count": 14,
     "metadata": {},
     "output_type": "execute_result"
    }
   ],
   "execution_count": 14
  },
  {
   "metadata": {
    "ExecuteTime": {
     "end_time": "2025-10-23T17:47:25.248595Z",
     "start_time": "2025-10-23T17:47:25.246242Z"
    }
   },
   "cell_type": "code",
   "source": "output.ids",
   "outputs": [
    {
     "data": {
      "text/plain": [
       "[9099, 18266, 6291, 2529, 16857, 29072]"
      ]
     },
     "execution_count": 15,
     "metadata": {},
     "output_type": "execute_result"
    }
   ],
   "execution_count": 15
  }
 ],
 "metadata": {
  "kernelspec": {
   "display_name": "Python 3",
   "language": "python",
   "name": "python3"
  }
 },
 "nbformat": 4,
 "nbformat_minor": 2
}
